{
 "cells": [
  {
   "cell_type": "code",
   "execution_count": 1,
   "id": "ef95b40f-9dde-47c9-a20d-480424367a77",
   "metadata": {},
   "outputs": [],
   "source": [
    "import requests\n",
    "from bs4 import BeautifulSoup as bs \n",
    "from urllib.request import urlopen as uReq\n",
    "import logging"
   ]
  },
  {
   "cell_type": "code",
   "execution_count": 33,
   "id": "2a2ef303-e5cb-4f24-b198-3f63825d12db",
   "metadata": {},
   "outputs": [],
   "source": [
    "flipcart_url = \"https://www.flipkart.com/search?q=\" + \"redmi\""
   ]
  },
  {
   "cell_type": "code",
   "execution_count": 34,
   "id": "7abd229c-90a5-4d8e-903d-f4da2f74860b",
   "metadata": {},
   "outputs": [
    {
     "data": {
      "text/plain": [
       "'https://www.flipkart.com/search?q=redmi'"
      ]
     },
     "execution_count": 34,
     "metadata": {},
     "output_type": "execute_result"
    }
   ],
   "source": [
    "flipcart_url"
   ]
  },
  {
   "cell_type": "code",
   "execution_count": 35,
   "id": "beb68f06-4869-4826-9e89-a9922e902f8b",
   "metadata": {},
   "outputs": [],
   "source": [
    "urlclient = uReq(flipcart_url)"
   ]
  },
  {
   "cell_type": "code",
   "execution_count": 36,
   "id": "44ad4006-d720-4076-9bd9-06d59de6a57a",
   "metadata": {},
   "outputs": [
    {
     "data": {
      "text/plain": [
       "<http.client.HTTPResponse at 0x7f21c7922e30>"
      ]
     },
     "execution_count": 36,
     "metadata": {},
     "output_type": "execute_result"
    }
   ],
   "source": [
    "urlclient "
   ]
  },
  {
   "cell_type": "code",
   "execution_count": 37,
   "id": "2cf844f0-ec7a-44ed-b9c1-e92c0a5f478b",
   "metadata": {},
   "outputs": [],
   "source": [
    "flipcart_page = urlclient.read()"
   ]
  },
  {
   "cell_type": "code",
   "execution_count": 38,
   "id": "c7febf9e-0ae3-4697-9e0f-c8b481f5a573",
   "metadata": {},
   "outputs": [],
   "source": [
    "flipcart_html = bs(flipcart_page, 'html.parser') "
   ]
  },
  {
   "cell_type": "code",
   "execution_count": 39,
   "id": "cd632792-3bfa-4dc9-a208-76edfa766a23",
   "metadata": {},
   "outputs": [
    {
     "data": {
      "text/plain": [
       "'https://www.flipkart.com/search?q=/apple-iphone-12-pro-max-gold-128-gb/p/itme3ae592065711?pid=MOBFWBYZQVKT77YH&amp;lid=LSTMOBFWBYZQVKT77YHP1ERRT&amp;marketplace=FLIPKART&amp;q=iphone12pro&amp;store=tyy%2F4io&amp;srno=s_1_21&amp;otracker=search&amp;fm=organic&amp;iid=56cade10-f808-419a-8bd5-0188bfc5d100.MOBFWBYZQVKT77YH.SEARCH&amp;ppt=None&amp;ppn=None&amp;ssid=tpksoi3jsw0000001695558887694&amp;qH=712933e6bd68e7b9'"
      ]
     },
     "execution_count": 39,
     "metadata": {},
     "output_type": "execute_result"
    }
   ],
   "source": [
    " \"https://www.flipkart.com/search?q=\" + \"/apple-iphone-12-pro-max-gold-128-gb/p/itme3ae592065711?pid=MOBFWBYZQVKT77YH&amp;lid=LSTMOBFWBYZQVKT77YHP1ERRT&amp;marketplace=FLIPKART&amp;q=iphone12pro&amp;store=tyy%2F4io&amp;srno=s_1_21&amp;otracker=search&amp;fm=organic&amp;iid=56cade10-f808-419a-8bd5-0188bfc5d100.MOBFWBYZQVKT77YH.SEARCH&amp;ppt=None&amp;ppn=None&amp;ssid=tpksoi3jsw0000001695558887694&amp;qH=712933e6bd68e7b9\""
   ]
  },
  {
   "cell_type": "code",
   "execution_count": 40,
   "id": "ee561d31-42ee-4537-8554-bc230beec98c",
   "metadata": {},
   "outputs": [],
   "source": [
    "bigbox = flipcart_html.findAll(\"div\" , {\"class\": \"_1AtVbE col-12-12\"})\n"
   ]
  },
  {
   "cell_type": "code",
   "execution_count": 41,
   "id": "15a3b6e0-566c-4fd0-a226-07123f22a09d",
   "metadata": {},
   "outputs": [
    {
     "data": {
      "text/plain": [
       "30"
      ]
     },
     "execution_count": 41,
     "metadata": {},
     "output_type": "execute_result"
    }
   ],
   "source": [
    "len(bigbox)"
   ]
  },
  {
   "cell_type": "code",
   "execution_count": 42,
   "id": "a0248b53-1f14-456a-af20-f435480db0e9",
   "metadata": {},
   "outputs": [],
   "source": [
    "del bigbox[0:3]"
   ]
  },
  {
   "cell_type": "code",
   "execution_count": 43,
   "id": "36159df3-db0f-41f0-9d77-9d0824f65348",
   "metadata": {},
   "outputs": [],
   "source": [
    "productlink = \"https://www.flipkart.com\" + bigbox[3].div.div.div.a['href']"
   ]
  },
  {
   "cell_type": "code",
   "execution_count": 44,
   "id": "33ce969a-f50e-482d-b5fe-41cc1aa85133",
   "metadata": {},
   "outputs": [],
   "source": [
    "product_req = requests.get(productlink)"
   ]
  },
  {
   "cell_type": "code",
   "execution_count": 45,
   "id": "6c941dee-9e47-414c-b472-56264ae14a33",
   "metadata": {},
   "outputs": [
    {
     "data": {
      "text/plain": [
       "'https://www.flipkart.com/redmi-12-5g-jade-black-128-gb/p/itm0c8ba13f6fc5b?pid=MOBGS7GYGUAJ4UYZ&lid=LSTMOBGS7GYGUAJ4UYZHLYZ8M&marketplace=FLIPKART&q=redmi&store=tyy%2F4io&srno=s_1_5&otracker=search&fm=organic&iid=d48e3f63-b0f4-4e07-9602-ad4991ad93e2.MOBGS7GYGUAJ4UYZ.SEARCH&ppt=None&ppn=None&ssid=86e5k8fly80000001695730440758&qH=9b6bf0057c19bd94'"
      ]
     },
     "execution_count": 45,
     "metadata": {},
     "output_type": "execute_result"
    }
   ],
   "source": [
    "productlink"
   ]
  },
  {
   "cell_type": "code",
   "execution_count": 46,
   "id": "ec480156-3279-4e0b-beea-c4ae79a883fc",
   "metadata": {},
   "outputs": [],
   "source": [
    "product_html = bs(product_req.text,'html.parser')"
   ]
  },
  {
   "cell_type": "code",
   "execution_count": 47,
   "id": "e3bad397-98bc-4006-8f33-a8bf48824fd9",
   "metadata": {},
   "outputs": [],
   "source": [
    "comment_box = product_html.find_all(\"div\",{\"class\" : \"_16PBlm\"})"
   ]
  },
  {
   "cell_type": "code",
   "execution_count": 48,
   "id": "2ee835f8-d7c4-4d96-a109-c3cf08166138",
   "metadata": {},
   "outputs": [
    {
     "data": {
      "text/plain": [
       "11"
      ]
     },
     "execution_count": 48,
     "metadata": {},
     "output_type": "execute_result"
    }
   ],
   "source": [
    "len(comment_box)"
   ]
  },
  {
   "cell_type": "code",
   "execution_count": 49,
   "id": "42f7b831-6a2c-4515-923e-1cb7e4363a10",
   "metadata": {},
   "outputs": [
    {
     "data": {
      "text/plain": [
       "'faiz ali'"
      ]
     },
     "execution_count": 49,
     "metadata": {},
     "output_type": "execute_result"
    }
   ],
   "source": [
    "comment_box[0].div.div.find_all('p' ,{\"class\" : \"_2sc7ZR _2V5EHH\"})[0].text\n"
   ]
  },
  {
   "cell_type": "code",
   "execution_count": 50,
   "id": "b458ac16-d796-46f8-8007-cb99f485de6e",
   "metadata": {},
   "outputs": [
    {
     "name": "stdout",
     "output_type": "stream",
     "text": [
      "faiz ali\n",
      "Flipkart Customer\n",
      "Mohan Singh\n",
      "Nishant Kumar\n",
      "Vivek  Barve\n",
      "RAVI KUMAR MAHATO\n",
      "Flipkart Customer\n",
      "Flipkart Customer\n",
      "Abhishek  Singh\n",
      "Sukumar Karmakar\n"
     ]
    },
    {
     "ename": "AttributeError",
     "evalue": "'NoneType' object has no attribute 'div'",
     "output_type": "error",
     "traceback": [
      "\u001b[0;31m---------------------------------------------------------------------------\u001b[0m",
      "\u001b[0;31mAttributeError\u001b[0m                            Traceback (most recent call last)",
      "Cell \u001b[0;32mIn[50], line 2\u001b[0m\n\u001b[1;32m      1\u001b[0m \u001b[38;5;28;01mfor\u001b[39;00m i \u001b[38;5;129;01min\u001b[39;00m comment_box:\n\u001b[0;32m----> 2\u001b[0m     \u001b[38;5;28mprint\u001b[39m(\u001b[43mi\u001b[49m\u001b[38;5;241;43m.\u001b[39;49m\u001b[43mdiv\u001b[49m\u001b[38;5;241;43m.\u001b[39;49m\u001b[43mdiv\u001b[49m\u001b[38;5;241m.\u001b[39mfind_all(\u001b[38;5;124m'\u001b[39m\u001b[38;5;124mp\u001b[39m\u001b[38;5;124m'\u001b[39m ,{\u001b[38;5;124m\"\u001b[39m\u001b[38;5;124mclass\u001b[39m\u001b[38;5;124m\"\u001b[39m : \u001b[38;5;124m\"\u001b[39m\u001b[38;5;124m_2sc7ZR _2V5EHH\u001b[39m\u001b[38;5;124m\"\u001b[39m})[\u001b[38;5;241m0\u001b[39m]\u001b[38;5;241m.\u001b[39mtext)\n",
      "\u001b[0;31mAttributeError\u001b[0m: 'NoneType' object has no attribute 'div'"
     ]
    }
   ],
   "source": [
    "for i in comment_box:\n",
    "    print(i.div.div.find_all('p' ,{\"class\" : \"_2sc7ZR _2V5EHH\"})[0].text)\n"
   ]
  },
  {
   "cell_type": "code",
   "execution_count": 51,
   "id": "1dbb8ee1-6b88-42b0-afc6-28b100ff2500",
   "metadata": {},
   "outputs": [
    {
     "data": {
      "text/plain": [
       "'4'"
      ]
     },
     "execution_count": 51,
     "metadata": {},
     "output_type": "execute_result"
    }
   ],
   "source": [
    "comment_box[0].div.div.div.div.text"
   ]
  },
  {
   "cell_type": "code",
   "execution_count": 52,
   "id": "e0786efb-49e0-4967-bcf1-af9eefcec76f",
   "metadata": {},
   "outputs": [
    {
     "name": "stdout",
     "output_type": "stream",
     "text": [
      "4\n",
      "5\n",
      "5\n",
      "5\n",
      "5\n",
      "5\n",
      "5\n",
      "5\n",
      "5\n",
      "3\n"
     ]
    },
    {
     "ename": "AttributeError",
     "evalue": "'NoneType' object has no attribute 'div'",
     "output_type": "error",
     "traceback": [
      "\u001b[0;31m---------------------------------------------------------------------------\u001b[0m",
      "\u001b[0;31mAttributeError\u001b[0m                            Traceback (most recent call last)",
      "Cell \u001b[0;32mIn[52], line 2\u001b[0m\n\u001b[1;32m      1\u001b[0m \u001b[38;5;28;01mfor\u001b[39;00m i \u001b[38;5;129;01min\u001b[39;00m comment_box:\n\u001b[0;32m----> 2\u001b[0m     \u001b[38;5;28mprint\u001b[39m(\u001b[43mi\u001b[49m\u001b[38;5;241;43m.\u001b[39;49m\u001b[43mdiv\u001b[49m\u001b[38;5;241;43m.\u001b[39;49m\u001b[43mdiv\u001b[49m\u001b[38;5;241m.\u001b[39mdiv\u001b[38;5;241m.\u001b[39mdiv\u001b[38;5;241m.\u001b[39mtext)\n",
      "\u001b[0;31mAttributeError\u001b[0m: 'NoneType' object has no attribute 'div'"
     ]
    }
   ],
   "source": [
    "for i in comment_box:\n",
    "    print(i.div.div.div.div.text)"
   ]
  },
  {
   "cell_type": "code",
   "execution_count": 53,
   "id": "748f7f25-5981-450f-bfe4-dc2d36887c6a",
   "metadata": {},
   "outputs": [
    {
     "data": {
      "text/plain": [
       "'Really Nice'"
      ]
     },
     "execution_count": 53,
     "metadata": {},
     "output_type": "execute_result"
    }
   ],
   "source": [
    "comment_box[0].div.div.div.p.text"
   ]
  },
  {
   "cell_type": "code",
   "execution_count": 54,
   "id": "a5bfcf43-97c6-4c0d-b4f7-cbf292b2623a",
   "metadata": {},
   "outputs": [
    {
     "name": "stdout",
     "output_type": "stream",
     "text": [
      "Really Nice\n",
      "Awesome\n",
      "Perfect product!\n",
      "Perfect product!\n",
      "Must buy!\n",
      "Worth every penny\n",
      "Great product\n",
      "Fabulous!\n",
      "Terrific purchase\n",
      "Fair\n"
     ]
    },
    {
     "ename": "AttributeError",
     "evalue": "'NoneType' object has no attribute 'div'",
     "output_type": "error",
     "traceback": [
      "\u001b[0;31m---------------------------------------------------------------------------\u001b[0m",
      "\u001b[0;31mAttributeError\u001b[0m                            Traceback (most recent call last)",
      "Cell \u001b[0;32mIn[54], line 2\u001b[0m\n\u001b[1;32m      1\u001b[0m \u001b[38;5;28;01mfor\u001b[39;00m i \u001b[38;5;129;01min\u001b[39;00m comment_box:\n\u001b[0;32m----> 2\u001b[0m     \u001b[38;5;28mprint\u001b[39m(\u001b[43mi\u001b[49m\u001b[38;5;241;43m.\u001b[39;49m\u001b[43mdiv\u001b[49m\u001b[38;5;241;43m.\u001b[39;49m\u001b[43mdiv\u001b[49m\u001b[38;5;241m.\u001b[39mdiv\u001b[38;5;241m.\u001b[39mp\u001b[38;5;241m.\u001b[39mtext)\n",
      "\u001b[0;31mAttributeError\u001b[0m: 'NoneType' object has no attribute 'div'"
     ]
    }
   ],
   "source": [
    "for i in comment_box:\n",
    "    print(i.div.div.div.p.text)"
   ]
  },
  {
   "cell_type": "code",
   "execution_count": 55,
   "id": "9210f0dc-262b-4ac6-80c2-add8819ecd5b",
   "metadata": {},
   "outputs": [
    {
     "data": {
      "text/plain": [
       "'Camera not good but phone is good'"
      ]
     },
     "execution_count": 55,
     "metadata": {},
     "output_type": "execute_result"
    }
   ],
   "source": [
    "comment_box[0].div.div.find_all('div' , {\"class\" : ''})[0].div.text"
   ]
  },
  {
   "cell_type": "code",
   "execution_count": 56,
   "id": "3d2872a3-2cdd-4a69-a60f-14270ff3eec9",
   "metadata": {},
   "outputs": [
    {
     "name": "stdout",
     "output_type": "stream",
     "text": [
      "Camera not good but phone is good\n",
      "Good 👍🏻\n",
      "Pwesa wasul\n",
      "🔥🔥🔥 This phone is lit 🔥🔥128gb storage 6gb ram 5g connectivity🔥🔥🔥Biggest display Smooth UI Fast charging(18W)Excellent camera , All at just 14000 Rupees..Unbelievable but that's the truth.It's an amazing phone , Excellent performance and camera .Battery backup is also good4nm processor makes it more efficient.Amazing display , a massssiivcce oneee ❣️❣️🔥🔥My brother loved this phone .Go for it , for this price you won't get anything else .\n",
      "Product is very good.. battery backup nice... Camera quality awesome..\n",
      "Very good mobile 😄😍\n",
      "Nice phone , camera is avrage , bettery enough for a day  and design is good\n",
      "Good\n",
      "Over all all-round smart phone..\n",
      "Battery is too weak.\n"
     ]
    },
    {
     "ename": "AttributeError",
     "evalue": "'NoneType' object has no attribute 'div'",
     "output_type": "error",
     "traceback": [
      "\u001b[0;31m---------------------------------------------------------------------------\u001b[0m",
      "\u001b[0;31mAttributeError\u001b[0m                            Traceback (most recent call last)",
      "Cell \u001b[0;32mIn[56], line 2\u001b[0m\n\u001b[1;32m      1\u001b[0m \u001b[38;5;28;01mfor\u001b[39;00m i \u001b[38;5;129;01min\u001b[39;00m comment_box:\n\u001b[0;32m----> 2\u001b[0m     \u001b[38;5;28mprint\u001b[39m(\u001b[43mi\u001b[49m\u001b[38;5;241;43m.\u001b[39;49m\u001b[43mdiv\u001b[49m\u001b[38;5;241;43m.\u001b[39;49m\u001b[43mdiv\u001b[49m\u001b[38;5;241m.\u001b[39mfind_all(\u001b[38;5;124m'\u001b[39m\u001b[38;5;124mdiv\u001b[39m\u001b[38;5;124m'\u001b[39m , {\u001b[38;5;124m\"\u001b[39m\u001b[38;5;124mclass\u001b[39m\u001b[38;5;124m\"\u001b[39m : \u001b[38;5;124m'\u001b[39m\u001b[38;5;124m'\u001b[39m})[\u001b[38;5;241m0\u001b[39m]\u001b[38;5;241m.\u001b[39mdiv\u001b[38;5;241m.\u001b[39mtext)\n",
      "\u001b[0;31mAttributeError\u001b[0m: 'NoneType' object has no attribute 'div'"
     ]
    }
   ],
   "source": [
    "for i in comment_box:\n",
    "    print(i.div.div.find_all('div' , {\"class\" : ''})[0].div.text)"
   ]
  },
  {
   "cell_type": "code",
   "execution_count": null,
   "id": "4a5157f9-5f4b-4b39-9f26-47314e6def94",
   "metadata": {},
   "outputs": [],
   "source": []
  },
  {
   "cell_type": "code",
   "execution_count": 57,
   "id": "8819f163-124e-4f25-a5da-3b74d2e2a01e",
   "metadata": {},
   "outputs": [
    {
     "name": "stdout",
     "output_type": "stream",
     "text": [
      "https://www.flipkart.com/redmi-12-moonstone-silver-128-gb/p/itm6722b15672602?pid=MOBGRMFK4CSR7GGH&lid=LSTMOBGRMFK4CSR7GGHHKEX2Z&marketplace=FLIPKART&q=redmi&store=tyy%2F4io&spotlightTagId=BestsellerId_tyy%2F4io&srno=s_1_2&otracker=search&fm=organic&iid=d48e3f63-b0f4-4e07-9602-ad4991ad93e2.MOBGRMFK4CSR7GGH.SEARCH&ppt=None&ppn=None&ssid=86e5k8fly80000001695730440758&qH=9b6bf0057c19bd94\n",
      "https://www.flipkart.com/redmi-note-12-pro-5g-stardust-purple-128-gb/p/itm26c8ff9d1f226?pid=MOBGH2UVWWDA4MS6&lid=LSTMOBGH2UVWWDA4MS6M7LVCT&marketplace=FLIPKART&q=redmi&store=tyy%2F4io&srno=s_1_3&otracker=search&fm=organic&iid=d48e3f63-b0f4-4e07-9602-ad4991ad93e2.MOBGH2UVWWDA4MS6.SEARCH&ppt=None&ppn=None&ssid=86e5k8fly80000001695730440758&qH=9b6bf0057c19bd94\n",
      "https://www.flipkart.com/redmi-12-5g-pastel-blue-128-gb/p/itm71f3d06ed5235?pid=MOBGS9T5T9GCCWJM&lid=LSTMOBGS9T5T9GCCWJMQDIWRX&marketplace=FLIPKART&q=redmi&store=tyy%2F4io&srno=s_1_4&otracker=search&fm=organic&iid=d48e3f63-b0f4-4e07-9602-ad4991ad93e2.MOBGS9T5T9GCCWJM.SEARCH&ppt=None&ppn=None&ssid=86e5k8fly80000001695730440758&qH=9b6bf0057c19bd94\n",
      "https://www.flipkart.com/redmi-12-5g-jade-black-128-gb/p/itm0c8ba13f6fc5b?pid=MOBGS7GYGUAJ4UYZ&lid=LSTMOBGS7GYGUAJ4UYZHLYZ8M&marketplace=FLIPKART&q=redmi&store=tyy%2F4io&srno=s_1_5&otracker=search&fm=organic&iid=d48e3f63-b0f4-4e07-9602-ad4991ad93e2.MOBGS7GYGUAJ4UYZ.SEARCH&ppt=None&ppn=None&ssid=86e5k8fly80000001695730440758&qH=9b6bf0057c19bd94\n",
      "https://www.flipkart.com/redmi-11-prime-peppy-purple-128-gb/p/itm52d6b0fe396e9?pid=MOBGZHFGUHYSHQYM&lid=LSTMOBGZHFGUHYSHQYM4JS8MJ&marketplace=FLIPKART&q=redmi&store=tyy%2F4io&spotlightTagId=BestsellerId_tyy%2F4io&srno=s_1_6&otracker=search&fm=organic&iid=d48e3f63-b0f4-4e07-9602-ad4991ad93e2.MOBGZHFGUHYSHQYM.SEARCH&ppt=None&ppn=None&ssid=86e5k8fly80000001695730440758&qH=9b6bf0057c19bd94\n",
      "https://www.flipkart.com/redmi-12-5g-moonstone-silver-128-gb/p/itm71f3d06ed5235?pid=MOBGS9T5GBSYKBHM&lid=LSTMOBGS9T5GBSYKBHM6RKKCS&marketplace=FLIPKART&q=redmi&store=tyy%2F4io&srno=s_1_7&otracker=search&fm=organic&iid=d48e3f63-b0f4-4e07-9602-ad4991ad93e2.MOBGS9T5GBSYKBHM.SEARCH&ppt=None&ppn=None&ssid=86e5k8fly80000001695730440758&qH=9b6bf0057c19bd94\n",
      "https://www.flipkart.com/redmi-12-5g-pastel-blue-128-gb/p/itm0c8ba13f6fc5b?pid=MOBGS7K3BFTXMMGG&lid=LSTMOBGS7K3BFTXMMGGJETNI5&marketplace=FLIPKART&q=redmi&store=tyy%2F4io&srno=s_1_8&otracker=search&fm=organic&iid=d48e3f63-b0f4-4e07-9602-ad4991ad93e2.MOBGS7K3BFTXMMGG.SEARCH&ppt=None&ppn=None&ssid=86e5k8fly80000001695730440758&qH=9b6bf0057c19bd94\n",
      "https://www.flipkart.com/redmi-12-jade-black-128-gb/p/itmb7050ec01c09f?pid=MOBGRMFKTHKQSJEG&lid=LSTMOBGRMFKTHKQSJEGQK3FM2&marketplace=FLIPKART&q=redmi&store=tyy%2F4io&srno=s_1_9&otracker=search&fm=organic&iid=d48e3f63-b0f4-4e07-9602-ad4991ad93e2.MOBGRMFKTHKQSJEG.SEARCH&ppt=None&ppn=None&ssid=86e5k8fly80000001695730440758&qH=9b6bf0057c19bd94\n",
      "https://www.flipkart.com/redmi-12-5g-jade-black-128-gb/p/itm0c8ba13f6fc5b?pid=MOBGS9QU7QVWUWRD&lid=LSTMOBGS9QU7QVWUWRDN4CQT9&marketplace=FLIPKART&q=redmi&store=tyy%2F4io&srno=s_1_10&otracker=search&fm=organic&iid=d48e3f63-b0f4-4e07-9602-ad4991ad93e2.MOBGS9QU7QVWUWRD.SEARCH&ppt=None&ppn=None&ssid=86e5k8fly80000001695730440758&qH=9b6bf0057c19bd94\n",
      "https://www.flipkart.com/redmi-12c-mint-green-128-gb/p/itm66120033a4dcb?pid=MOBGR72CB5HFHANT&lid=LSTMOBGR72CB5HFHANTNF1CLF&marketplace=FLIPKART&q=redmi&store=tyy%2F4io&srno=s_1_11&otracker=search&fm=organic&iid=d48e3f63-b0f4-4e07-9602-ad4991ad93e2.MOBGR72CB5HFHANT.SEARCH&ppt=None&ppn=None&ssid=86e5k8fly80000001695730440758&qH=9b6bf0057c19bd94\n",
      "https://www.flipkart.com/redmi-12c-matte-black-128-gb/p/itm66120033a4dcb?pid=MOBGR72BCWWE6GH2&lid=LSTMOBGR72BCWWE6GH2PAXWM3&marketplace=FLIPKART&q=redmi&store=tyy%2F4io&srno=s_1_12&otracker=search&fm=organic&iid=d48e3f63-b0f4-4e07-9602-ad4991ad93e2.MOBGR72BCWWE6GH2.SEARCH&ppt=None&ppn=None&ssid=86e5k8fly80000001695730440758&qH=9b6bf0057c19bd94\n",
      "https://www.flipkart.com/redmi-note-12-pro-5g-glacier-blue-128-gb/p/itm8fbee21008560?pid=MOBGH2UVZHHQGRRP&lid=LSTMOBGH2UVZHHQGRRPHUPSMM&marketplace=FLIPKART&q=redmi&store=tyy%2F4io&srno=s_1_13&otracker=search&fm=organic&iid=d48e3f63-b0f4-4e07-9602-ad4991ad93e2.MOBGH2UVZHHQGRRP.SEARCH&ppt=None&ppn=None&ssid=86e5k8fly80000001695730440758&qH=9b6bf0057c19bd94\n",
      "https://www.flipkart.com/redmi-12-moonstone-silver-128-gb/p/itme52e778c12701?pid=MOBGRMFK2MGRNG4Q&lid=LSTMOBGRMFK2MGRNG4QFZLVXT&marketplace=FLIPKART&q=redmi&store=tyy%2F4io&spotlightTagId=FkPickId_tyy%2F4io&srno=s_1_14&otracker=search&fm=organic&iid=d48e3f63-b0f4-4e07-9602-ad4991ad93e2.MOBGRMFK2MGRNG4Q.SEARCH&ppt=None&ppn=None&ssid=86e5k8fly80000001695730440758&qH=9b6bf0057c19bd94\n",
      "https://www.flipkart.com/redmi-note-12-ice-blue-64-gb/p/itmee415766dfc1a?pid=MOBGNYHZYZ4CNTCM&lid=LSTMOBGNYHZYZ4CNTCMVONB0S&marketplace=FLIPKART&q=redmi&store=tyy%2F4io&srno=s_1_15&otracker=search&fm=organic&iid=d48e3f63-b0f4-4e07-9602-ad4991ad93e2.MOBGNYHZYZ4CNTCM.SEARCH&ppt=None&ppn=None&ssid=86e5k8fly80000001695730440758&qH=9b6bf0057c19bd94\n",
      "https://www.flipkart.com/redmi-note-12-sunrise-gold-128-gb/p/itm4e485ddec3bbf?pid=MOBGNYHZ7WRZ2RGT&lid=LSTMOBGNYHZ7WRZ2RGTPK1VQE&marketplace=FLIPKART&q=redmi&store=tyy%2F4io&srno=s_1_16&otracker=search&fm=organic&iid=d48e3f63-b0f4-4e07-9602-ad4991ad93e2.MOBGNYHZ7WRZ2RGT.SEARCH&ppt=None&ppn=None&ssid=86e5k8fly80000001695730440758&qH=9b6bf0057c19bd94\n",
      "https://www.flipkart.com/redmi-note-12-pro-5g-obsidian-black-256-gb/p/itm91af760b68910?pid=MOBGH2UVUGR9N5FW&lid=LSTMOBGH2UVUGR9N5FWMEJHWA&marketplace=FLIPKART&q=redmi&store=tyy%2F4io&srno=s_1_17&otracker=search&fm=organic&iid=d48e3f63-b0f4-4e07-9602-ad4991ad93e2.MOBGH2UVUGR9N5FW.SEARCH&ppt=None&ppn=None&ssid=86e5k8fly80000001695730440758&qH=9b6bf0057c19bd94\n",
      "https://www.flipkart.com/redmi-a2-sea-green-64-gb/p/itm5d49be2c0a95a?pid=MOBGRHB7GUUZG3QH&lid=LSTMOBGRHB7GUUZG3QHWXCHRR&marketplace=FLIPKART&q=redmi&store=tyy%2F4io&srno=s_1_18&otracker=search&fm=organic&iid=d48e3f63-b0f4-4e07-9602-ad4991ad93e2.MOBGRHB7GUUZG3QH.SEARCH&ppt=None&ppn=None&ssid=86e5k8fly80000001695730440758&qH=9b6bf0057c19bd94\n",
      "https://www.flipkart.com/redmi-12-5g-moonstone-silver-256-gb/p/itm33b5f7887a701?pid=MOBGS9T7XMXZGXGT&lid=LSTMOBGS9T7XMXZGXGTKO9JLR&marketplace=FLIPKART&q=redmi&store=tyy%2F4io&srno=s_1_19&otracker=search&fm=organic&iid=d48e3f63-b0f4-4e07-9602-ad4991ad93e2.MOBGS9T7XMXZGXGT.SEARCH&ppt=None&ppn=None&ssid=86e5k8fly80000001695730440758&qH=9b6bf0057c19bd94\n",
      "https://www.flipkart.com/redmi-12c-royal-blue-128-gb/p/itm3fe4e598a0358?pid=MOBGZEUKDN5ZG4JJ&lid=LSTMOBGZEUKDN5ZG4JJXO8KIT&marketplace=FLIPKART&q=redmi&store=tyy%2F4io&srno=s_1_20&otracker=search&fm=organic&iid=d48e3f63-b0f4-4e07-9602-ad4991ad93e2.MOBGZEUKDN5ZG4JJ.SEARCH&ppt=None&ppn=None&ssid=86e5k8fly80000001695730440758&qH=9b6bf0057c19bd94\n",
      "https://www.flipkart.com/redmi-12-5g-pastel-blue-256-gb/p/itm33b5f7887a701?pid=MOBGS9T8EPYWHHSG&lid=LSTMOBGS9T8EPYWHHSGNWFOFQ&marketplace=FLIPKART&q=redmi&store=tyy%2F4io&srno=s_1_21&otracker=search&fm=organic&iid=d48e3f63-b0f4-4e07-9602-ad4991ad93e2.MOBGS9T8EPYWHHSG.SEARCH&ppt=None&ppn=None&ssid=86e5k8fly80000001695730440758&qH=9b6bf0057c19bd94\n",
      "https://www.flipkart.com/redmi-note-12-lunar-black-128-gb/p/itm6ba19bad63915?pid=MOBGNYHZEHBAZQN7&lid=LSTMOBGNYHZEHBAZQN7QY1WDZ&marketplace=FLIPKART&q=redmi&store=tyy%2F4io&srno=s_1_22&otracker=search&fm=organic&iid=d48e3f63-b0f4-4e07-9602-ad4991ad93e2.MOBGNYHZEHBAZQN7.SEARCH&ppt=None&ppn=None&ssid=86e5k8fly80000001695730440758&qH=9b6bf0057c19bd94\n",
      "https://www.flipkart.com/redmi-note-12-sunrise-gold-64-gb/p/itm5d170187bcbf0?pid=MOBGNYHZ7ZGHES2V&lid=LSTMOBGNYHZ7ZGHES2VQILAET&marketplace=FLIPKART&q=redmi&store=tyy%2F4io&srno=s_1_23&otracker=search&fm=organic&iid=d48e3f63-b0f4-4e07-9602-ad4991ad93e2.MOBGNYHZ7ZGHES2V.SEARCH&ppt=None&ppn=None&ssid=86e5k8fly80000001695730440758&qH=9b6bf0057c19bd94\n",
      "https://www.flipkart.com/redmi-note-12-lunar-black-64-gb/p/itm6756d6e7a86be?pid=MOBGNYHZJGGE3ZHM&lid=LSTMOBGNYHZJGGE3ZHMWSTXBO&marketplace=FLIPKART&q=redmi&store=tyy%2F4io&srno=s_1_24&otracker=search&fm=organic&iid=d48e3f63-b0f4-4e07-9602-ad4991ad93e2.MOBGNYHZJGGE3ZHM.SEARCH&ppt=None&ppn=None&ssid=86e5k8fly80000001695730440758&qH=9b6bf0057c19bd94\n"
     ]
    },
    {
     "ename": "AttributeError",
     "evalue": "'NoneType' object has no attribute 'a'",
     "output_type": "error",
     "traceback": [
      "\u001b[0;31m---------------------------------------------------------------------------\u001b[0m",
      "\u001b[0;31mAttributeError\u001b[0m                            Traceback (most recent call last)",
      "Cell \u001b[0;32mIn[57], line 3\u001b[0m\n\u001b[1;32m      1\u001b[0m \u001b[38;5;28;01mfor\u001b[39;00m i \u001b[38;5;129;01min\u001b[39;00m bigbox:\n\u001b[0;32m----> 3\u001b[0m     \u001b[38;5;28mprint\u001b[39m(\u001b[38;5;124m\"\u001b[39m\u001b[38;5;124mhttps://www.flipkart.com\u001b[39m\u001b[38;5;124m\"\u001b[39m \u001b[38;5;241m+\u001b[39m \u001b[43mi\u001b[49m\u001b[38;5;241;43m.\u001b[39;49m\u001b[43mdiv\u001b[49m\u001b[38;5;241;43m.\u001b[39;49m\u001b[43mdiv\u001b[49m\u001b[38;5;241;43m.\u001b[39;49m\u001b[43mdiv\u001b[49m\u001b[38;5;241;43m.\u001b[39;49m\u001b[43ma\u001b[49m[\u001b[38;5;124m'\u001b[39m\u001b[38;5;124mhref\u001b[39m\u001b[38;5;124m'\u001b[39m])\n",
      "\u001b[0;31mAttributeError\u001b[0m: 'NoneType' object has no attribute 'a'"
     ]
    }
   ],
   "source": [
    "for i in bigbox:\n",
    "    \n",
    "    print(\"https://www.flipkart.com\" + i.div.div.div.a['href'])"
   ]
  },
  {
   "cell_type": "code",
   "execution_count": null,
   "id": "4ca75d72-7450-4c9d-bd75-b575bda175f8",
   "metadata": {},
   "outputs": [],
   "source": []
  },
  {
   "cell_type": "code",
   "execution_count": null,
   "id": "bffd054a-6e22-4dfb-a8a2-b84dfc1d3f8c",
   "metadata": {},
   "outputs": [],
   "source": []
  },
  {
   "cell_type": "code",
   "execution_count": null,
   "id": "55e29556-5a46-450e-9b0f-df8a54dd4cdb",
   "metadata": {},
   "outputs": [],
   "source": []
  },
  {
   "cell_type": "code",
   "execution_count": null,
   "id": "580bd5fb-dc06-4352-9fbe-a472848f0249",
   "metadata": {},
   "outputs": [],
   "source": []
  },
  {
   "cell_type": "code",
   "execution_count": null,
   "id": "d5cc521a-cd43-4d19-af50-cdec26ea0cad",
   "metadata": {},
   "outputs": [],
   "source": []
  }
 ],
 "metadata": {
  "kernelspec": {
   "display_name": "Python 3 (ipykernel)",
   "language": "python",
   "name": "python3"
  },
  "language_info": {
   "codemirror_mode": {
    "name": "ipython",
    "version": 3
   },
   "file_extension": ".py",
   "mimetype": "text/x-python",
   "name": "python",
   "nbconvert_exporter": "python",
   "pygments_lexer": "ipython3",
   "version": "3.10.8"
  }
 },
 "nbformat": 4,
 "nbformat_minor": 5
}
